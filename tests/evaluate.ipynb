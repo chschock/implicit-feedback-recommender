{
 "cells": [
  {
   "cell_type": "code",
   "execution_count": 69,
   "metadata": {
    "collapsed": false,
    "deletable": true,
    "editable": true
   },
   "outputs": [],
   "source": [
    "import random\n",
    "import numpy as np\n",
    "import time\n",
    "from scipy import sparse\n",
    "import random\n",
    "from importlib import reload\n",
    "from recapi import recommender as rec"
   ]
  },
  {
   "cell_type": "code",
   "execution_count": 70,
   "metadata": {
    "collapsed": false,
    "deletable": true,
    "editable": true
   },
   "outputs": [],
   "source": [
    "# Load the books dataset\n",
    "import csv\n",
    "incidence_file = '../data/csv/BX-Book-Ratings.csv'\n",
    "user_item_rating_triples = list()\n",
    "with open(incidence_file, encoding='latin1') as f:\n",
    "    r = csv.reader(f, delimiter=';', skipinitialspace=True, quoting=csv.QUOTE_ALL)\n",
    "    next(r)\n",
    "    for row in r:\n",
    "        if row[2] != '0' and row[2] < '5':\n",
    "            continue\n",
    "        user_item_rating_triples.append((row[0], row[1], 1))"
   ]
  },
  {
   "cell_type": "code",
   "execution_count": null,
   "metadata": {
    "collapsed": false,
    "deletable": true,
    "editable": true
   },
   "outputs": [],
   "source": [
    "# movielens dataset\n",
    "from surprise import Dataset\n",
    "data = Dataset.load_builtin('ml-100k')\n",
    "user_item_rating_triples = [(u, i, 1) for u, i, r, t in data.raw_ratings if int(t) > 1]"
   ]
  },
  {
   "cell_type": "code",
   "execution_count": 67,
   "metadata": {
    "collapsed": false,
    "deletable": true,
    "editable": true
   },
   "outputs": [
    {
     "name": "stdout",
     "output_type": "stream",
     "text": [
      "original counts: 96735 users, 319762 items\n",
      "construction took 1.09 secs\n",
      "CPU times: user 3.5 s, sys: 64 ms, total: 3.57 s\n",
      "Wall time: 3.57 s\n",
      "40337 items left\n",
      "22622 users left\n"
     ]
    }
   ],
   "source": [
    "reload(rec)\n",
    "%time rmdr = rec.build_recommender_from_triples(\\\n",
    "    user_item_rating_triples, min_item_freq=5, min_user_freq=3)\n",
    "\n",
    "print('%d items left' % len(rmdr.items))\n",
    "print('%d users left' % len(rmdr.users))"
   ]
  },
  {
   "cell_type": "code",
   "execution_count": 72,
   "metadata": {
    "collapsed": false,
    "deletable": true,
    "editable": true
   },
   "outputs": [
    {
     "name": "stdout",
     "output_type": "stream",
     "text": [
      "CPU times: user 10.9 s, sys: 4 ms, total: 11 s\n",
      "Wall time: 11 s\n",
      "relative rank mean 0.1693, median 0.0566, std 0.233\n",
      "CPU times: user 11.2 s, sys: 0 ns, total: 11.2 s\n",
      "Wall time: 11.2 s\n",
      "relative rank mean 0.1661, median 0.0593, std 0.228\n",
      "CPU times: user 7.62 s, sys: 0 ns, total: 7.62 s\n",
      "Wall time: 7.62 s\n",
      "relative rank mean 0.2725, median 0.1484, std 0.285\n"
     ]
    }
   ],
   "source": [
    "reload(rec)\n",
    "seed = random.randint(0,1000)\n",
    "eval_str = 'relative rank mean %.4f, median %.4f, std %.3f'\n",
    "\n",
    "seed = 15\n",
    "alpha = 2.5\n",
    "beta = 0.1\n",
    "\n",
    "stats = lambda ser: (np.mean(ser), np.percentile(ser, 50), np.std(ser))\n",
    "samples = 200\n",
    "\n",
    "%time ranks = rec.ranking_stat(rmdr, samples, seed, alpha=alpha, no_mat=False, no_bias=True)\n",
    "print(eval_str % stats(ranks))\n",
    "\n",
    "%time ranks = rec.ranking_stat(rmdr, samples, seed, alpha=alpha, beta=beta, no_mat=False, no_bias=False)\n",
    "print(eval_str % stats(ranks))\n",
    "\n",
    "%time ranks = rec.ranking_stat(rmdr, samples, seed, no_mat=True, no_bias=False)\n",
    "print(eval_str % stats(ranks))"
   ]
  },
  {
   "cell_type": "code",
   "execution_count": null,
   "metadata": {
    "collapsed": false,
    "deletable": true,
    "editable": true
   },
   "outputs": [],
   "source": []
  },
  {
   "cell_type": "code",
   "execution_count": 3,
   "metadata": {
    "collapsed": false,
    "deletable": true,
    "editable": true
   },
   "outputs": [
    {
     "name": "stdout",
     "output_type": "stream",
     "text": [
      "original counts: 96735 users, 319762 items\n",
      "construction took 1.05 secs\n",
      "mean relative rank 0.2447, std 0.267 for params [None, None]\n",
      "mean relative rank 0.1679, std 0.230 for params ['1.45', None]\n",
      "mean relative rank 0.1638, std 0.223 for params ['1.45', '0.003']\n",
      "mean relative rank 0.1638, std 0.223 for params ['1.45', '0.006']\n",
      "mean relative rank 0.1638, std 0.223 for params ['1.45', '0.013']\n",
      "mean relative rank 0.1637, std 0.223 for params ['1.45', '0.025']\n",
      "mean relative rank 0.1637, std 0.223 for params ['1.45', '0.050']\n",
      "mean relative rank 0.1638, std 0.223 for params ['1.45', '0.100']\n",
      "mean relative rank 0.1638, std 0.223 for params ['1.45', '0.200']\n",
      "mean relative rank 0.1637, std 0.223 for params ['1.45', '0.400']\n",
      "mean relative rank 0.1636, std 0.223 for params ['1.45', '0.800']\n",
      "mean relative rank 0.1661, std 0.230 for params ['1.74', None]\n",
      "mean relative rank 0.1620, std 0.223 for params ['1.74', '0.003']\n",
      "mean relative rank 0.1619, std 0.223 for params ['1.74', '0.006']\n",
      "mean relative rank 0.1619, std 0.223 for params ['1.74', '0.013']\n",
      "mean relative rank 0.1620, std 0.223 for params ['1.74', '0.025']\n",
      "mean relative rank 0.1619, std 0.223 for params ['1.74', '0.050']\n",
      "mean relative rank 0.1619, std 0.222 for params ['1.74', '0.100']\n",
      "mean relative rank 0.1619, std 0.222 for params ['1.74', '0.200']\n",
      "mean relative rank 0.1619, std 0.222 for params ['1.74', '0.400']\n",
      "mean relative rank 0.1616, std 0.222 for params ['1.74', '0.800']\n",
      "mean relative rank 0.1652, std 0.231 for params ['2.08', None]\n",
      "mean relative rank 0.1610, std 0.223 for params ['2.08', '0.003']\n",
      "mean relative rank 0.1610, std 0.223 for params ['2.08', '0.006']\n",
      "mean relative rank 0.1611, std 0.223 for params ['2.08', '0.013']\n",
      "mean relative rank 0.1611, std 0.223 for params ['2.08', '0.025']\n",
      "mean relative rank 0.1609, std 0.223 for params ['2.08', '0.050']\n",
      "mean relative rank 0.1607, std 0.222 for params ['2.08', '0.100']\n",
      "mean relative rank 0.1606, std 0.222 for params ['2.08', '0.200']\n",
      "mean relative rank 0.1603, std 0.221 for params ['2.08', '0.400']\n",
      "mean relative rank 0.1606, std 0.221 for params ['2.08', '0.800']\n",
      "mean relative rank 0.1649, std 0.231 for params ['2.50', None]\n",
      "mean relative rank 0.1611, std 0.224 for params ['2.50', '0.003']\n",
      "mean relative rank 0.1611, std 0.224 for params ['2.50', '0.006']\n",
      "mean relative rank 0.1609, std 0.223 for params ['2.50', '0.013']\n",
      "mean relative rank 0.1606, std 0.223 for params ['2.50', '0.025']\n",
      "mean relative rank 0.1602, std 0.222 for params ['2.50', '0.050']\n",
      "mean relative rank 0.1600, std 0.222 for params ['2.50', '0.100']\n",
      "mean relative rank 0.1604, std 0.222 for params ['2.50', '0.200']\n",
      "mean relative rank 0.1613, std 0.223 for params ['2.50', '0.400']\n",
      "mean relative rank 0.1632, std 0.224 for params ['2.50', '0.800']\n",
      "mean relative rank 0.1660, std 0.232 for params ['3.00', None]\n",
      "mean relative rank 0.1613, std 0.223 for params ['3.00', '0.003']\n",
      "mean relative rank 0.1610, std 0.223 for params ['3.00', '0.006']\n",
      "mean relative rank 0.1608, std 0.223 for params ['3.00', '0.013']\n",
      "mean relative rank 0.1608, std 0.223 for params ['3.00', '0.025']\n",
      "mean relative rank 0.1613, std 0.223 for params ['3.00', '0.050']\n",
      "mean relative rank 0.1626, std 0.224 for params ['3.00', '0.100']\n",
      "mean relative rank 0.1649, std 0.226 for params ['3.00', '0.200']\n",
      "mean relative rank 0.1686, std 0.228 for params ['3.00', '0.400']\n",
      "mean relative rank 0.1739, std 0.231 for params ['3.00', '0.800']\n",
      "mean relative rank 0.1680, std 0.233 for params ['3.60', None]\n",
      "mean relative rank 0.1629, std 0.224 for params ['3.60', '0.003']\n",
      "mean relative rank 0.1633, std 0.225 for params ['3.60', '0.006']\n",
      "mean relative rank 0.1642, std 0.226 for params ['3.60', '0.013']\n",
      "mean relative rank 0.1660, std 0.227 for params ['3.60', '0.025']\n",
      "mean relative rank 0.1690, std 0.229 for params ['3.60', '0.050']\n",
      "mean relative rank 0.1731, std 0.232 for params ['3.60', '0.100']\n",
      "mean relative rank 0.1787, std 0.235 for params ['3.60', '0.200']\n",
      "mean relative rank 0.1851, std 0.237 for params ['3.60', '0.400']\n",
      "mean relative rank 0.1918, std 0.239 for params ['3.60', '0.800']\n",
      "mean relative rank 0.1710, std 0.234 for params ['4.32', None]\n",
      "mean relative rank 0.1692, std 0.229 for params ['4.32', '0.003']\n",
      "mean relative rank 0.1721, std 0.231 for params ['4.32', '0.006']\n",
      "mean relative rank 0.1760, std 0.234 for params ['4.32', '0.013']\n",
      "mean relative rank 0.1808, std 0.237 for params ['4.32', '0.025']\n",
      "mean relative rank 0.1858, std 0.238 for params ['4.32', '0.050']\n",
      "mean relative rank 0.1913, std 0.240 for params ['4.32', '0.100']\n",
      "mean relative rank 0.1968, std 0.241 for params ['4.32', '0.200']\n",
      "mean relative rank 0.2024, std 0.242 for params ['4.32', '0.400']\n",
      "mean relative rank 0.2076, std 0.243 for params ['4.32', '0.800']\n",
      "mean relative rank 0.1741, std 0.234 for params ['5.18', None]\n",
      "mean relative rank 0.1852, std 0.239 for params ['5.18', '0.003']\n",
      "mean relative rank 0.1896, std 0.241 for params ['5.18', '0.006']\n",
      "mean relative rank 0.1939, std 0.242 for params ['5.18', '0.013']\n",
      "mean relative rank 0.1982, std 0.242 for params ['5.18', '0.025']\n",
      "mean relative rank 0.2026, std 0.243 for params ['5.18', '0.050']\n",
      "mean relative rank 0.2071, std 0.244 for params ['5.18', '0.100']\n",
      "mean relative rank 0.2110, std 0.245 for params ['5.18', '0.200']\n",
      "mean relative rank 0.2150, std 0.246 for params ['5.18', '0.400']\n",
      "mean relative rank 0.2182, std 0.247 for params ['5.18', '0.800']\n",
      "mean relative rank 0.1776, std 0.236 for params ['6.22', None]\n",
      "mean relative rank 0.2015, std 0.244 for params ['6.22', '0.003']\n",
      "mean relative rank 0.2050, std 0.244 for params ['6.22', '0.006']\n",
      "mean relative rank 0.2085, std 0.245 for params ['6.22', '0.013']\n",
      "mean relative rank 0.2121, std 0.246 for params ['6.22', '0.025']\n",
      "mean relative rank 0.2151, std 0.246 for params ['6.22', '0.050']\n",
      "mean relative rank 0.2179, std 0.247 for params ['6.22', '0.100']\n",
      "mean relative rank 0.2202, std 0.248 for params ['6.22', '0.200']\n",
      "mean relative rank 0.2221, std 0.248 for params ['6.22', '0.400']\n",
      "mean relative rank 0.2238, std 0.249 for params ['6.22', '0.800']\n",
      "took 119.91 seconds per parameter set\n"
     ]
    }
   ],
   "source": [
    "reload(rec)\n",
    "\n",
    "eval_stat = dict()\n",
    "eval_ranks = dict()\n",
    "\n",
    "def register(params, typ, ranks):\n",
    "    print(eval_str % (np.mean(ranks), np.std(ranks), params))\n",
    "    key = tuple(params + [typ])\n",
    "    eval_stat[key] = (np.mean(ranks), np.std(ranks))\n",
    "    eval_ranks[key] = ranks\n",
    "    \n",
    "seed = random.randint(0,1000)\n",
    "eval_str = 'mean relative rank %.4f, std %.3f for params %s'\n",
    "\n",
    "seed = 15\n",
    "samples = 2000\n",
    "\n",
    "rmdr = rec.build_recommender_from_triples(\n",
    "    user_item_rating_triples, min_item_freq=5, min_user_freq=2)\n",
    "\n",
    "start = time.time()\n",
    "\n",
    "ranks = rec.ranking_stat(rmdr, samples, seed, no_mat=True, no_bias=False)\n",
    "register([None, None], 'nomat', ranks)\n",
    "\n",
    "for alpha in 3 * 1.2 ** np.arange(-4, 5):\n",
    "    ranks = rec.ranking_stat(rmdr, samples, seed, alpha=alpha, no_mat=False, no_bias=True)\n",
    "    register(['%3.2f' % alpha, None], 'nobias', ranks)\n",
    "\n",
    "    for beta in 0.05 * 2. ** np.arange(-4, 5):\n",
    "        params = ['%3.1f' % alpha, '%4.3f' % beta]\n",
    "\n",
    "        ranks = rec.ranking_stat(rmdr, samples, seed, alpha=alpha, beta=beta, no_mat=False, no_bias=False)\n",
    "        register(['%3.2f' % alpha, '%4.3f' % beta], 'normal', ranks)\n",
    "print('took {:.2f} seconds per parameter set'.format((time.time()-start) / len(eval_stat)))\n",
    "\n",
    "import pickle\n",
    "with open('./eval-seed15-muf2-mif5-samples2k.pickle', 'wb') as f:\n",
    "    pickle.dump((eval_stat, eval_ranks), f)"
   ]
  },
  {
   "cell_type": "code",
   "execution_count": 56,
   "metadata": {
    "collapsed": false,
    "deletable": true,
    "editable": true
   },
   "outputs": [
    {
     "name": "stdout",
     "output_type": "stream",
     "text": [
      "params ('2.50', '0.100', 'normal'): median 0.054\n",
      "params ('2.50', '0.100', 'normal'): mean 0.160\n",
      "params (None, None, 'nomat'): median 0.136\n",
      "params (None, None, 'nomat'): mean 0.245\n"
     ]
    },
    {
     "data": {
      "text/plain": [
       "<matplotlib.figure.Figure at 0x7f2af61b2f98>"
      ]
     },
     "metadata": {},
     "output_type": "display_data"
    },
    {
     "data": {
      "image/png": "[encoded data removed]",
      "text/plain": [
       "<matplotlib.figure.Figure at 0x7f2af5bd9908>"
      ]
     },
     "metadata": {},
     "output_type": "display_data"
    }
   ],
   "source": [
    "import matplotlib.pyplot as plt\n",
    "import numpy as np\n",
    "%matplotlib inline\n",
    "\n",
    "import pickle\n",
    "with open('./eval-seed15-muf2-mif5-samples2k.pickle', 'rb') as f:\n",
    "    eval_stat, eval_ranks = pickle.load(f)\n",
    "\n",
    "params = [('2.50', '0.100', 'normal'), (None, None, 'nomat')]\n",
    "ranks = [eval_ranks[param] for param in params]\n",
    "\n",
    "for i in range(2):\n",
    "    print('params %s: median %4.3f' % (params[i], np.percentile(ranks[i], 50)))\n",
    "    print('params %s: mean %4.3f' % (params[i], np.mean(ranks[i])))\n",
    "\n",
    "    plt.figure(figsize=(20,7))\n",
    "bins=1000\n",
    "plt.hist(ranks[0], bins, normed=1, alpha=0.3, label='normal')\n",
    "plt.hist(ranks[1], bins, normed=1, alpha=0.3, label='only item frequency')\n",
    "# plt.hist(eval_ranks[('2.50', None, 'nobias')], bins, normed=1, alpha=0.3, label='no bias')\n",
    "\n",
    "x1,x2,y1,y2 = plt.axis()\n",
    "plt.axis((0,0.1,y1,y2))\n",
    "plt.legend()\n",
    "plt.show()"
   ]
  },
  {
   "cell_type": "code",
   "execution_count": 5,
   "metadata": {
    "collapsed": false,
    "deletable": true,
    "editable": true
   },
   "outputs": [],
   "source": [
    "\n",
    "    "
   ]
  },
  {
   "cell_type": "code",
   "execution_count": 55,
   "metadata": {
    "collapsed": false,
    "deletable": true,
    "editable": true
   },
   "outputs": [
    {
     "name": "stdout",
     "output_type": "stream",
     "text": [
      "('2.50', '0.100', 'normal') mean 0.1600, std 0.22, q50, 0.0540, q25 0.0111\n",
      "('2.50', '0.050', 'normal') mean 0.1602, std 0.22, q50, 0.0546, q25 0.0111\n",
      "('2.08', '0.400', 'normal') mean 0.1603, std 0.22, q50, 0.0547, q25 0.0111\n",
      "('2.50', '0.200', 'normal') mean 0.1604, std 0.22, q50, 0.0540, q25 0.0112\n",
      "('2.08', '0.800', 'normal') mean 0.1606, std 0.22, q50, 0.0551, q25 0.0113\n",
      "('2.50', '0.025', 'normal') mean 0.1606, std 0.22, q50, 0.0552, q25 0.0111\n",
      "('2.08', '0.200', 'normal') mean 0.1606, std 0.22, q50, 0.0550, q25 0.0110\n",
      "('2.08', '0.100', 'normal') mean 0.1607, std 0.22, q50, 0.0552, q25 0.0110\n",
      "('3.00', '0.013', 'normal') mean 0.1608, std 0.22, q50, 0.0563, q25 0.0107\n",
      "('3.00', '0.025', 'normal') mean 0.1608, std 0.22, q50, 0.0559, q25 0.0108\n",
      "('2.50', '0.013', 'normal') mean 0.1609, std 0.22, q50, 0.0553, q25 0.0111\n",
      "('2.08', '0.050', 'normal') mean 0.1609, std 0.22, q50, 0.0552, q25 0.0110\n",
      "('2.08', '0.003', 'normal') mean 0.1610, std 0.22, q50, 0.0553, q25 0.0110\n",
      "('2.08', '0.006', 'normal') mean 0.1610, std 0.22, q50, 0.0553, q25 0.0110\n",
      "('3.00', '0.006', 'normal') mean 0.1610, std 0.22, q50, 0.0567, q25 0.0107\n",
      "('2.08', '0.025', 'normal') mean 0.1611, std 0.22, q50, 0.0555, q25 0.0110\n",
      "('2.50', '0.003', 'normal') mean 0.1611, std 0.22, q50, 0.0553, q25 0.0112\n",
      "('2.50', '0.006', 'normal') mean 0.1611, std 0.22, q50, 0.0554, q25 0.0112\n",
      "('2.08', '0.013', 'normal') mean 0.1611, std 0.22, q50, 0.0552, q25 0.0110\n",
      "('2.50', '0.400', 'normal') mean 0.1613, std 0.22, q50, 0.0538, q25 0.0113\n",
      "('3.00', '0.050', 'normal') mean 0.1613, std 0.22, q50, 0.0556, q25 0.0110\n",
      "('3.00', '0.003', 'normal') mean 0.1613, std 0.22, q50, 0.0568, q25 0.0108\n",
      "('1.74', '0.800', 'normal') mean 0.1616, std 0.22, q50, 0.0559, q25 0.0112\n",
      "('1.74', '0.400', 'normal') mean 0.1619, std 0.22, q50, 0.0559, q25 0.0112\n",
      "('1.74', '0.013', 'normal') mean 0.1619, std 0.22, q50, 0.0556, q25 0.0113\n",
      "('1.74', '0.100', 'normal') mean 0.1619, std 0.22, q50, 0.0556, q25 0.0113\n",
      "('1.74', '0.200', 'normal') mean 0.1619, std 0.22, q50, 0.0557, q25 0.0112\n",
      "('1.74', '0.006', 'normal') mean 0.1619, std 0.22, q50, 0.0558, q25 0.0113\n",
      "('1.74', '0.050', 'normal') mean 0.1619, std 0.22, q50, 0.0556, q25 0.0113\n",
      "('1.74', '0.025', 'normal') mean 0.1620, std 0.22, q50, 0.0556, q25 0.0113\n",
      "('1.74', '0.003', 'normal') mean 0.1620, std 0.22, q50, 0.0556, q25 0.0113\n",
      "('3.00', '0.100', 'normal') mean 0.1626, std 0.22, q50, 0.0562, q25 0.0115\n",
      "('3.60', '0.003', 'normal') mean 0.1629, std 0.22, q50, 0.0587, q25 0.0115\n",
      "('2.50', '0.800', 'normal') mean 0.1632, std 0.22, q50, 0.0562, q25 0.0114\n",
      "('3.60', '0.006', 'normal') mean 0.1633, std 0.22, q50, 0.0573, q25 0.0117\n",
      "('1.45', '0.800', 'normal') mean 0.1636, std 0.22, q50, 0.0577, q25 0.0114\n",
      "('1.45', '0.050', 'normal') mean 0.1637, std 0.22, q50, 0.0578, q25 0.0114\n",
      "('1.45', '0.400', 'normal') mean 0.1637, std 0.22, q50, 0.0582, q25 0.0113\n",
      "('1.45', '0.025', 'normal') mean 0.1637, std 0.22, q50, 0.0580, q25 0.0114\n",
      "('1.45', '0.003', 'normal') mean 0.1638, std 0.22, q50, 0.0577, q25 0.0114\n",
      "('1.45', '0.006', 'normal') mean 0.1638, std 0.22, q50, 0.0577, q25 0.0114\n",
      "('1.45', '0.013', 'normal') mean 0.1638, std 0.22, q50, 0.0577, q25 0.0114\n",
      "('1.45', '0.200', 'normal') mean 0.1638, std 0.22, q50, 0.0579, q25 0.0114\n",
      "('1.45', '0.100', 'normal') mean 0.1638, std 0.22, q50, 0.0578, q25 0.0114\n",
      "('3.60', '0.013', 'normal') mean 0.1642, std 0.23, q50, 0.0571, q25 0.0116\n",
      "('3.00', '0.200', 'normal') mean 0.1649, std 0.23, q50, 0.0571, q25 0.0113\n",
      "('2.50', None, 'nobias') mean 0.1649, std 0.23, q50, 0.0552, q25 0.0111\n",
      "('2.08', None, 'nobias') mean 0.1652, std 0.23, q50, 0.0551, q25 0.0110\n",
      "('3.60', '0.025', 'normal') mean 0.1660, std 0.23, q50, 0.0573, q25 0.0118\n",
      "('3.00', None, 'nobias') mean 0.1660, std 0.23, q50, 0.0566, q25 0.0108\n",
      "('1.74', None, 'nobias') mean 0.1661, std 0.23, q50, 0.0556, q25 0.0113\n",
      "('1.45', None, 'nobias') mean 0.1679, std 0.23, q50, 0.0576, q25 0.0114\n",
      "('3.60', None, 'nobias') mean 0.1680, std 0.23, q50, 0.0592, q25 0.0115\n",
      "('3.00', '0.400', 'normal') mean 0.1686, std 0.23, q50, 0.0603, q25 0.0119\n",
      "('3.60', '0.050', 'normal') mean 0.1690, std 0.23, q50, 0.0591, q25 0.0123\n",
      "('4.32', '0.003', 'normal') mean 0.1692, std 0.23, q50, 0.0590, q25 0.0123\n",
      "('4.32', None, 'nobias') mean 0.1710, std 0.23, q50, 0.0605, q25 0.0126\n",
      "('4.32', '0.006', 'normal') mean 0.1721, std 0.23, q50, 0.0602, q25 0.0126\n",
      "('3.60', '0.100', 'normal') mean 0.1731, std 0.23, q50, 0.0633, q25 0.0122\n",
      "('3.00', '0.800', 'normal') mean 0.1739, std 0.23, q50, 0.0650, q25 0.0123\n",
      "('5.18', None, 'nobias') mean 0.1741, std 0.23, q50, 0.0624, q25 0.0132\n",
      "('4.32', '0.013', 'normal') mean 0.1760, std 0.23, q50, 0.0643, q25 0.0130\n",
      "('6.22', None, 'nobias') mean 0.1776, std 0.24, q50, 0.0663, q25 0.0141\n",
      "('3.60', '0.200', 'normal') mean 0.1787, std 0.23, q50, 0.0693, q25 0.0128\n",
      "('4.32', '0.025', 'normal') mean 0.1808, std 0.24, q50, 0.0701, q25 0.0132\n",
      "('3.60', '0.400', 'normal') mean 0.1851, std 0.24, q50, 0.0752, q25 0.0137\n",
      "('5.18', '0.003', 'normal') mean 0.1852, std 0.24, q50, 0.0724, q25 0.0141\n",
      "('4.32', '0.050', 'normal') mean 0.1858, std 0.24, q50, 0.0759, q25 0.0136\n",
      "('5.18', '0.006', 'normal') mean 0.1896, std 0.24, q50, 0.0774, q25 0.0141\n",
      "('4.32', '0.100', 'normal') mean 0.1913, std 0.24, q50, 0.0798, q25 0.0149\n",
      "('3.60', '0.800', 'normal') mean 0.1918, std 0.24, q50, 0.0829, q25 0.0157\n",
      "('5.18', '0.013', 'normal') mean 0.1939, std 0.24, q50, 0.0829, q25 0.0149\n",
      "('4.32', '0.200', 'normal') mean 0.1968, std 0.24, q50, 0.0890, q25 0.0161\n",
      "('5.18', '0.025', 'normal') mean 0.1982, std 0.24, q50, 0.0896, q25 0.0160\n",
      "('6.22', '0.003', 'normal') mean 0.2015, std 0.24, q50, 0.0922, q25 0.0160\n",
      "('4.32', '0.400', 'normal') mean 0.2024, std 0.24, q50, 0.0965, q25 0.0179\n",
      "('5.18', '0.050', 'normal') mean 0.2026, std 0.24, q50, 0.0957, q25 0.0168\n",
      "('6.22', '0.006', 'normal') mean 0.2050, std 0.24, q50, 0.0977, q25 0.0167\n",
      "('5.18', '0.100', 'normal') mean 0.2071, std 0.24, q50, 0.0992, q25 0.0184\n",
      "('4.32', '0.800', 'normal') mean 0.2076, std 0.24, q50, 0.1015, q25 0.0192\n",
      "('6.22', '0.013', 'normal') mean 0.2085, std 0.24, q50, 0.1010, q25 0.0184\n",
      "('5.18', '0.200', 'normal') mean 0.2110, std 0.24, q50, 0.1059, q25 0.0201\n",
      "('6.22', '0.025', 'normal') mean 0.2121, std 0.25, q50, 0.1057, q25 0.0195\n",
      "('5.18', '0.400', 'normal') mean 0.2150, std 0.25, q50, 0.1097, q25 0.0209\n",
      "('6.22', '0.050', 'normal') mean 0.2151, std 0.25, q50, 0.1094, q25 0.0208\n",
      "('6.22', '0.100', 'normal') mean 0.2179, std 0.25, q50, 0.1120, q25 0.0217\n",
      "('5.18', '0.800', 'normal') mean 0.2182, std 0.25, q50, 0.1131, q25 0.0220\n",
      "('6.22', '0.200', 'normal') mean 0.2202, std 0.25, q50, 0.1149, q25 0.0228\n",
      "('6.22', '0.400', 'normal') mean 0.2221, std 0.25, q50, 0.1178, q25 0.0231\n",
      "('6.22', '0.800', 'normal') mean 0.2238, std 0.25, q50, 0.1199, q25 0.0242\n",
      "(None, None, 'nomat') mean 0.2447, std 0.27, q50, 0.1359, q25 0.0279\n"
     ]
    }
   ],
   "source": [
    "for k, v in sorted(eval_ranks.items(), key=lambda x: np.mean(x[1])):\n",
    "    print(k, 'mean %6.4f, std %4.2f, q50, %5.4f, q25 %5.4f' % (np.mean(v), np.std(v), np.percentile(v, 50), np.percentile(v, 25)))"
   ]
  },
  {
   "cell_type": "code",
   "execution_count": null,
   "metadata": {
    "collapsed": false,
    "deletable": true,
    "editable": true
   },
   "outputs": [],
   "source": []
  }
 ],
 "metadata": {
  "kernelspec": {
   "display_name": "Python 3",
   "language": "python",
   "name": "python3"
  },
  "language_info": {
   "codemirror_mode": {
    "name": "ipython",
    "version": 3
   },
   "file_extension": ".py",
   "mimetype": "text/x-python",
   "name": "python",
   "nbconvert_exporter": "python",
   "pygments_lexer": "ipython3",
   "version": "3.5.2"
  }
 },
 "nbformat": 4,
 "nbformat_minor": 2
}
