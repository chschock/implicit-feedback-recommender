{
 "cells": [
  {
   "cell_type": "code",
   "execution_count": null,
   "metadata": {
    "collapsed": false,
    "deletable": true,
    "editable": true
   },
   "outputs": [],
   "source": [
    "import random\n",
    "import numpy as np\n",
    "from scipy import sparse\n",
    "import random\n",
    "# from sklearn.model_selection import train_test_split\n",
    "from importlib import reload\n",
    "from recapi import recommender as rec"
   ]
  },
  {
   "cell_type": "code",
   "execution_count": null,
   "metadata": {
    "collapsed": false,
    "deletable": true,
    "editable": true
   },
   "outputs": [],
   "source": [
    "# Load the books dataset\n",
    "import csv\n",
    "incidence_file = '../data/csv/BX-Book-Ratings.csv'\n",
    "user_item_rating_triples = list()\n",
    "with open(incidence_file, encoding='latin1') as f:\n",
    "    r = csv.reader(f, delimiter=';', skipinitialspace=True, quoting=csv.QUOTE_ALL)\n",
    "    next(r)\n",
    "    for row in r:\n",
    "        if row[2] != '0' and row[2] < '5':\n",
    "            continue\n",
    "        user_item_rating_triples.append((row[0], row[1], 1))"
   ]
  },
  {
   "cell_type": "code",
   "execution_count": null,
   "metadata": {
    "collapsed": false
   },
   "outputs": [],
   "source": [
    "# movielens dataset\n",
    "from surprise import Dataset\n",
    "data = Dataset.load_builtin('ml-100k')\n",
    "user_item_rating_triples = [(u, i, 1) for u, i, r, t in data.raw_ratings if int(t) > 1]"
   ]
  },
  {
   "cell_type": "code",
   "execution_count": null,
   "metadata": {
    "collapsed": false,
    "deletable": true,
    "editable": true
   },
   "outputs": [],
   "source": [
    "reload(rec)\n",
    "%time rmdr = rec.build_recommender_from_triples(\\\n",
    "    user_item_rating_triples, min_item_freq=5, min_user_freq=3)\n",
    "\n",
    "print('%d items left' % len(rmdr.items))\n",
    "print('%d users left' % len(rmdr.users))"
   ]
  },
  {
   "cell_type": "code",
   "execution_count": null,
   "metadata": {
    "collapsed": false,
    "deletable": true,
    "editable": true
   },
   "outputs": [],
   "source": [
    "reload(rec)\n",
    "seed = random.randint(0,1000)\n",
    "eval_str = 'mean relative rank %.4f, std %.3f'\n",
    "\n",
    "seed = 15\n",
    "alpha = 3\n",
    "beta = 0.01\n",
    "\n",
    "samples = 1000\n",
    "\n",
    "%time ranks = rec.ranking_stat(rmdr, samples, seed, alpha=alpha, no_mat=False, no_bias=True)\n",
    "print(eval_str % (np.mean(ranks), np.std(ranks)))\n",
    "\n",
    "%time ranks = rec.ranking_stat(rmdr, samples, seed, alpha=alpha, beta=beta, no_mat=False, no_bias=False)\n",
    "print(eval_str % (np.mean(ranks), np.std(ranks)))\n",
    "\n",
    "%time ranks = rec.ranking_stat(rmdr, samples, seed, no_mat=True, no_bias=False)\n",
    "print(eval_str % (np.mean(ranks), np.std(ranks)))"
   ]
  },
  {
   "cell_type": "code",
   "execution_count": null,
   "metadata": {
    "collapsed": false,
    "deletable": true,
    "editable": true
   },
   "outputs": [],
   "source": []
  },
  {
   "cell_type": "code",
   "execution_count": null,
   "metadata": {
    "collapsed": false,
    "deletable": true,
    "editable": true
   },
   "outputs": [],
   "source": [
    "reload(assessment)\n",
    "from assessment import build_recommender, ranking_stat\n",
    "\n",
    "eval_stat = dict()\n",
    "eval_ranks = dict()\n",
    "\n",
    "def register(params, typ, ranks):\n",
    "    print(params)\n",
    "    print(eval_str % (np.mean(ranks), np.std(ranks)))\n",
    "    key = tuple(params + [typ])\n",
    "    eval_stat[key] = (np.mean(ranks), np.std(ranks))\n",
    "    eval_ranks[key] = ranks\n",
    "    \n",
    "seed = random.randint(0,1000)\n",
    "eval_str = 'mean relative rank %.4f, std %.3f'\n",
    "\n",
    "seed = 10\n",
    "samples = 500\n",
    "\n",
    "for tfidf in [True]:\n",
    "    norm_param = 'tfidf' if tfidf else 'l2'\n",
    "    rmdr = build_recommender(user_item_rating_triples, min_item_freq=5, min_user_freq=2)\n",
    "    \n",
    "    %time ranks = ranking_stat(rmdr, samples, seed, no_mat=True, no_bias=False)\n",
    "    register([norm_param, None, None], 'nomat', ranks)\n",
    "\n",
    "    for alpha in 3 * 1.2 ** np.arange(-2, 3):\n",
    "        %time ranks = ranking_stat(rmdr, samples, seed, alpha=alpha, no_mat=False, no_bias=True)\n",
    "        register([norm_param, '%3.2f' % alpha, None], 'nobias', ranks)\n",
    "\n",
    "        for beta in 0.1 * 1.5 ** np.arange(-3, 4):\n",
    "            params = ['tfidf' if tfidf else 'l2', '%3.1f' % alpha, '%3.1f' % beta]\n",
    "            \n",
    "            %time ranks = ranking_stat(rmdr, samples, seed, alpha=alpha, beta=beta, no_mat=False, no_bias=False)\n",
    "            register([norm_param, '%3.2f' % alpha, '%3.2f' % beta], 'normal', ranks)"
   ]
  },
  {
   "cell_type": "code",
   "execution_count": null,
   "metadata": {
    "collapsed": false,
    "deletable": true,
    "editable": true
   },
   "outputs": [],
   "source": []
  },
  {
   "cell_type": "code",
   "execution_count": null,
   "metadata": {
    "collapsed": false,
    "deletable": true,
    "editable": true
   },
   "outputs": [],
   "source": [
    "import pickle\n",
    "with open('./eval-seed3-muf2-mif5-samples1k.pickle', 'wb') as f:\n",
    "    pickle.dump((eval_stat, eval_ranks), f)\n",
    "    "
   ]
  },
  {
   "cell_type": "code",
   "execution_count": null,
   "metadata": {
    "collapsed": false,
    "deletable": true,
    "editable": true
   },
   "outputs": [],
   "source": [
    "for r in sorted(eval_stat.items(), key=lambda x: x[1][0]):\n",
    "    print(r[0], '%6.4f, std %4.2f' % r[1])"
   ]
  },
  {
   "cell_type": "code",
   "execution_count": null,
   "metadata": {
    "collapsed": false,
    "deletable": true,
    "editable": true
   },
   "outputs": [],
   "source": []
  }
 ],
 "metadata": {
  "kernelspec": {
   "display_name": "Python 3",
   "language": "python",
   "name": "python3"
  },
  "language_info": {
   "codemirror_mode": {
    "name": "ipython",
    "version": 3
   },
   "file_extension": ".py",
   "mimetype": "text/x-python",
   "name": "python",
   "nbconvert_exporter": "python",
   "pygments_lexer": "ipython3",
   "version": "3.5.2"
  }
 },
 "nbformat": 4,
 "nbformat_minor": 2
}
